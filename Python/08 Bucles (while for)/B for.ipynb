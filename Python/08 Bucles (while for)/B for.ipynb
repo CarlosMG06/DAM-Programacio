{
 "cells": [
  {
   "cell_type": "markdown",
   "metadata": {},
   "source": [
    "<div style=\"display: flex; width: 100%;\">\n",
    "    <div style=\"flex: 1; padding: 0px;\">\n",
    "        <p>© Albert Palacios Jiménez, 2023</p>\n",
    "    </div>\n",
    "    <div style=\"flex: 1; padding: 0px; text-align: right;\">\n",
    "        <img src=\"../assets/ieti.png\" height=\"32\" alt=\"Logo de IETI\" style=\"max-height: 32px;\">\n",
    "    </div>\n",
    "</div>\n",
    "<hr/>"
   ]
  },
  {
   "cell_type": "markdown",
   "metadata": {},
   "source": [
    "# Bucles 'for'\n",
    "\n",
    "<center><img src=\"../assets/07b_00.jpeg\" height=\"200\" style=\"max-height: 200px;\" /></center>\n",
    "\n",
    "Un bucle 'for' és una estructura que et permet repetir una sèrie d'instruccions un nombre específic de vegades.\n",
    "\n",
    "Pots pensar-hi com a una mena de \"comptador automàtic\" que realitza una tasca en cada pas.\n",
    "\n",
    "La sintaxi del bucle 'for' és:\n",
    "\n",
    "```python\n",
    "    for element in seqüència:\n",
    "        # Codi a executar diverses vegades\n",
    "```\n",
    "\n",
    "On 'element' és una variable que conté el valor de cada element de la seqüència que s'ha d'iterar."
   ]
  },
  {
   "cell_type": "code",
   "execution_count": null,
   "metadata": {},
   "outputs": [],
   "source": [
    "# Exemple, repetir un codi 5 vegades\n",
    "for contador in range(5):\n",
    "    print(\"¡Hola!\")\n",
    "    print(f\" - Comptador: {contador}\")"
   ]
  },
  {
   "cell_type": "code",
   "execution_count": null,
   "metadata": {},
   "outputs": [],
   "source": [
    "# Exemple, escriure els números del 2 al 5\n",
    "for numero in range(2, 6):\n",
    "    print(numero)"
   ]
  },
  {
   "cell_type": "code",
   "execution_count": null,
   "metadata": {},
   "outputs": [],
   "source": [
    "# Exemple, lletres en un text\n",
    "text = \"Hola\"\n",
    "for lletra in text:\n",
    "    print(lletra)"
   ]
  },
  {
   "cell_type": "code",
   "execution_count": null,
   "metadata": {},
   "outputs": [],
   "source": [
    "# Exemple, contar de 3 en 3 (l'últim paràmetre defineix quan suma cada repetició)\n",
    "for i in range(0, 10, 3):\n",
    "    print(i)\n"
   ]
  },
  {
   "cell_type": "code",
   "execution_count": null,
   "metadata": {},
   "outputs": [],
   "source": [
    "# Exemple, contar enrrera (l'últim paràmetre defineix restar -1 cada repetició)\n",
    "for i in range(5, 0, -1):\n",
    "    print(i)"
   ]
  },
  {
   "cell_type": "code",
   "execution_count": null,
   "metadata": {},
   "outputs": [],
   "source": [
    "# Exemple dibuixar un triangle d'asterics\n",
    "for y in range(0, 5):\n",
    "    txt = \"\"\n",
    "    for x in range(0, y):\n",
    "        txt = txt + \"*\"\n",
    "    print(txt)"
   ]
  },
  {
   "cell_type": "markdown",
   "metadata": {},
   "source": [
    "## Exercici 0\n",
    "\n",
    "Fes un programa que sumi els números dins d'un rang.\n",
    "\n",
    "Primer s'ha de demanar els números del rang.\n",
    "\n",
    "El dos números escrits, s'han d'ordenar de petit a gran.\n",
    "\n",
    "Per exemple:\n",
    "\n",
    "- Entre 2 i 5: 2 + 3 + 4 + 5 = 14\n",
    "\n",
    "- Entre 10 i 15: 10 + 11 + 12 + 13 + 14 + 15 = 75\n",
    "\n",
    "S'ha de retornar el resultat:\n",
    "\n",
    "- La suma entre 2 i 5 és 14 \n",
    "\n",
    "- La suma entre 10 i 15 és 75 "
   ]
  },
  {
   "cell_type": "code",
   "execution_count": null,
   "metadata": {},
   "outputs": [],
   "source": [
    "# Fes aquí el codi de l'exercici 0\n",
    "num1 = int(input(\"Escriu un dels límits del rang.\"))\n",
    "num2 = int(input(\"Escriu l'altre límit del rang.\"))\n",
    "\n",
    "if num1 > num2:\n",
    "    tmp = num1\n",
    "    num1 = num2\n",
    "    num2 = tmp\n",
    "\n",
    "suma = 0\n",
    "for num in range(num1,num2+1): suma += num\n",
    "print(f\"La suma entre {num1} i {num2} és {suma}\")"
   ]
  },
  {
   "cell_type": "markdown",
   "metadata": {},
   "source": [
    "## Exercici 1\n",
    "\n",
    "Fes un programa que demani un número i mostri la seva taula de multiplicar de 0 a 10.\n",
    "\n",
    "Per exemple, per 4:\n",
    "```text\n",
    "0 x 4 = 0\n",
    "1 x 4 = 4\n",
    "...\n",
    "10 x 4 = 40\n",
    "``````"
   ]
  },
  {
   "cell_type": "code",
   "execution_count": null,
   "metadata": {},
   "outputs": [],
   "source": [
    "# Fes aquí el codi de l'exercici 1\n",
    "num = int(input(\"Escriu un número: \"))\n",
    "for i in range(0,11): print(f\"{i} x {num} = {i*num}\")"
   ]
  },
  {
   "cell_type": "markdown",
   "metadata": {},
   "source": [
    "## Exercici 2\n",
    "\n",
    "Fes un programa que lletra a lletra, compti les 'a' que hi ha en un text.\n",
    "\n",
    "Per exemple:\n",
    "\n",
    "- \"Hola, com estàs?\" -> 2\n",
    "\n",
    "- \"Aquesta frase no té cap 'a'.\" -> 5"
   ]
  },
  {
   "cell_type": "code",
   "execution_count": null,
   "metadata": {},
   "outputs": [],
   "source": [
    "# Fes aquí el codi de l'exercici 2\n",
    "text = input(\"Escriu una cadena de text qualsevol: \")\n",
    "comptadorA = 0\n",
    "for c in text.lower():\n",
    "    if c in \"aàáä\": comptadorA += 1\n",
    "print(f'\"{text}\" conté {comptadorA} lletres a.')"
   ]
  },
  {
   "cell_type": "markdown",
   "metadata": {},
   "source": [
    "## Exercici 3\n",
    "\n",
    "Fes un programa que donat un rang determinat, mostri els números imparells.\n",
    "\n",
    "Hauràs de fer la funció 'esImparell' que retorna 'True' si el número és imparell i 'False' si és parell.\n",
    "\n",
    "Per exemple:\n",
    "\n",
    "- Entre 2 i 5: 3, 5\n",
    "\n",
    "- Entre 10 i 15: 11, 13, 15"
   ]
  },
  {
   "cell_type": "code",
   "execution_count": null,
   "metadata": {},
   "outputs": [],
   "source": [
    "# Fes aquí el codi de l'exercici 3\n",
    "def esImparell(num): return num % 2 == 1\n",
    "\n",
    "num1 = int(input(\"Escriu un dels límits del rang.\"))\n",
    "num2 = int(input(\"Escriu l'altre límit del rang.\"))\n",
    "\n",
    "if num1 > num2:\n",
    "    tmp = num1\n",
    "    num1 = num2\n",
    "    num2 = tmp\n",
    "\n",
    "númerosImparells = \"\"\n",
    "primer = True\n",
    "for i in range(num1,num2+1):\n",
    "    if esImparell(i):\n",
    "        if not primer: númerosImparells += \", \"\n",
    "        else: primer = False\n",
    "        númerosImparells += str(i)\n",
    "\n",
    "print(f\"Entre {num1} i {num2}: {númerosImparells}\")"
   ]
  },
  {
   "cell_type": "markdown",
   "metadata": {},
   "source": [
    "## Exercici 4\n",
    "\n",
    "Genera un triangle de X astericos.\n",
    "\n",
    "Demana un número entre 1 i 10 a l'usuari.\n",
    "\n",
    "Si l'usuari escrigui un número fora del rang, escriu: \"El número ha d'estar entre 1 i 10\".\n",
    "\n",
    "Si el número és correcte mostra el seu triangle d'astericos.\n",
    "\n",
    "Fes que surti centrat amb la funció de posicionament center a 10 asteriscos d'ample.\n",
    "\n",
    "Per exemple, per 4\n",
    "\n",
    "```text\n",
    "         *\n",
    "         **\n",
    "        ***\n",
    "        ****\n",
    "```"
   ]
  },
  {
   "cell_type": "code",
   "execution_count": null,
   "metadata": {},
   "outputs": [],
   "source": [
    "# Fes aquí el codi de l'exercici 4"
   ]
  },
  {
   "cell_type": "markdown",
   "metadata": {},
   "source": [
    "## Exercici 5\n",
    "\n",
    "Fes un programa que calculi el factorial d'un número.\n",
    "\n",
    "El factorial d'un número és el producte de tots els números des d'1 fins al número.\n",
    "\n",
    "Exemple:\n",
    "\n",
    "- 5! = 1 x 2 x 3 x 4 x 5 = 120\n",
    "\n",
    "- 10! = 1 x 2 x 3 x 4 x 5 x 6 x 7 x 8 x 9 x 10 = 3628800"
   ]
  },
  {
   "cell_type": "code",
   "execution_count": null,
   "metadata": {},
   "outputs": [],
   "source": [
    "# Fes aquí el codi de l'exercici 5\n",
    "num = int(input(\"Escriu un número enter: \"))\n",
    "resultat = 1\n",
    "print(f\"{num}! =\", end=\" \")\n",
    "for i in range(1,num+1):\n",
    "    resultat *= i\n",
    "    if i == num: print(f\"{i} =\", end= \" \")\n",
    "    else: print(f\"{i} x\", end=\" \")\n",
    "print(str(resultat))"
   ]
  },
  {
   "cell_type": "markdown",
   "metadata": {},
   "source": [
    "## Exercici 6\n",
    "\n",
    "Fes un programa que faci 5 bucles per mostrar la següent taula:\n",
    "```text\n",
    "1     2     3     4     5     6     7     8     9     10\n",
    "2     4     6     8     10    12    14    16    18    20\n",
    "20    22    24    26    28    30    32    34    36    38\n",
    "10    14    18    22    26    30    34    38    42    46\n",
    "40    35    30    25    20    15    10    5     0     -5\n",
    "```"
   ]
  },
  {
   "cell_type": "code",
   "execution_count": null,
   "metadata": {},
   "outputs": [],
   "source": [
    "# Fes aquí el codi de l'exercici 6\n",
    "for i in range(1,6):\n",
    "    if i == 1:\n",
    "        a = 1\n",
    "        b = 11\n",
    "        paso = 1\n",
    "    elif i == 2:\n",
    "        a = 2\n",
    "        b = 21\n",
    "        paso = 2\n",
    "    elif i == 3:\n",
    "        a = 20\n",
    "        b = 40\n",
    "        paso = 2\n",
    "    elif i == 4:\n",
    "        a = 10\n",
    "        b = 47\n",
    "        paso = 4\n",
    "    elif i == 5:\n",
    "        a = 40\n",
    "        b = -6\n",
    "        paso = -5\n",
    "    linea = \"\"\n",
    "    for n in range(a,b,paso):\n",
    "        linea += str(n).ljust(6)\n",
    "    print(linea)"
   ]
  },
  {
   "cell_type": "markdown",
   "metadata": {},
   "source": [
    "## La instrucció 'break'\n",
    "\n",
    "En un bucle 'for' la instrucció 'break' permet sortir del bucle abans d'hora.\n",
    "\n",
    "En el moment que s'executa 'break' el bucle s'atura i el programa continua amb la instrucció següent."
   ]
  },
  {
   "cell_type": "code",
   "execution_count": null,
   "metadata": {},
   "outputs": [],
   "source": [
    "# Exemple de 'break' en un bucle, escriurà els números fins a trobar un 0"
   ]
  },
  {
   "cell_type": "markdown",
   "metadata": {},
   "source": [
    "## Exercici 7\n",
    "\n",
    "Fes un programa que demani un número menor que 10 a l'usuari.\n",
    "\n",
    "Aleshores el programa farà un bucle 'for' entre 0 i 10, i a cada iteració: \n",
    "\n",
    "- Si el número és diferent al de l'usuari, escriurà una línia amb \"Comptador: X\" on X és el número de la iteració.\n",
    "\n",
    "- Però si el número de la iteració és igual al número escrit per l'usuari, farà un break."
   ]
  },
  {
   "cell_type": "code",
   "execution_count": null,
   "metadata": {},
   "outputs": [],
   "source": [
    "# Fes aquí el codi de l'exercici 7\n",
    "numUsuari = int(input(\"Introdueix un número positiu menor que 10: \"))\n",
    "while numUsuari < 1 or numUsuari >= 10:\n",
    "    print(\"Número invàlid.\")\n",
    "    numUsuari = int(input(\"Introdueix un número positiu menor que 10: \"))\n",
    "\n",
    "for i in range(10):\n",
    "    if i == numUsuari: break\n",
    "    else: print(f\"Comptador: {i}\")"
   ]
  },
  {
   "cell_type": "markdown",
   "metadata": {},
   "source": [
    "# Enumerate\n",
    "\n",
    "Si volem obtenir tant la posició de la llista, com l'element de la llista fem servir **enumerate**"
   ]
  },
  {
   "cell_type": "code",
   "execution_count": null,
   "metadata": {},
   "outputs": [],
   "source": [
    "llistaJocs = [\"Metroid\", \"Pikmin\", \"Star Fox\"]\n",
    "\n",
    "for i, nom in enumerate(llistaJocs):\n",
    "    print(f\"El joc \"{nom}\" està a la posició {i} de la llista\")"
   ]
  }
 ],
 "metadata": {
  "kernelspec": {
   "display_name": "Python 3",
   "language": "python",
   "name": "python3"
  },
  "language_info": {
   "codemirror_mode": {
    "name": "ipython",
    "version": 3
   },
   "file_extension": ".py",
   "mimetype": "text/x-python",
   "name": "python",
   "nbconvert_exporter": "python",
   "pygments_lexer": "ipython3",
   "version": "3.12.5"
  },
  "orig_nbformat": 4
 },
 "nbformat": 4,
 "nbformat_minor": 2
}
